{
 "cells": [
  {
   "cell_type": "code",
   "execution_count": 1,
   "metadata": {},
   "outputs": [],
   "source": [
    "import csv\n",
    "import openai\n",
    "import requests\n",
    "import os\n",
    "from tqdm import tqdm\n",
    "from dotenv import load_dotenv\n",
    "from utils import gen_prompt"
   ]
  },
  {
   "cell_type": "code",
   "execution_count": null,
   "metadata": {},
   "outputs": [],
   "source": [
    "# Set up OpenAI API key\n",
    "load_dotenv()\n",
    "api_key = os.environ[\"OPENAI_API_KEY\"]\n",
    "openai.api_key = api_key"
   ]
  },
  {
   "cell_type": "code",
   "execution_count": 2,
   "metadata": {},
   "outputs": [],
   "source": [
    "# Define Hugging Face model and evaluation dataset\n",
    "model_name = \"gpt-3.5-turbo\" # or use the frozen one? gpt-3.5-turbo-0301\n",
    "prompt_style = \"zero_shoot\"\n",
    "prompt_dic = {}\n",
    "prompt_dic[\"zero_shoot\"] = \"prompt1\""
   ]
  },
  {
   "cell_type": "code",
   "execution_count": null,
   "metadata": {},
   "outputs": [],
   "source": [
    "filepath = \"Yelp/yelp_dummy_test.csv\"\n",
    "inputfile = open(filepath)\n",
    "raw_data = csv.reader(inputfile)\n",
    "outputfile = open('yelp_dummy_{}.csv'.format(prompt_dic[prompt_style]), 'w', newline='',encoding='UTF8')\n",
    "writer = csv.writer(outputfile)"
   ]
  },
  {
   "cell_type": "code",
   "execution_count": 3,
   "metadata": {},
   "outputs": [
    {
     "name": "stdout",
     "output_type": "stream",
     "text": [
      "neg\n",
      "neg\n",
      "Here is some text: \"ever since joes has changed hands it 's just gotten worse and worse .\". Here is a rewrite of the text, which is more positive: \"\n"
     ]
    }
   ],
   "source": [
    "\n",
    "\n",
    "for row in raw_data:\n",
    "    label,input_sentence,expected_output = row\n",
    "    prompt = gen_prompt(input_sentence,label,prompt_style=prompt_style)\n",
    "    \n",
    "    # Make API call to OpenAI with the Hugging Face model and prompt\n",
    "    response = openai.Completion.create(\n",
    "        model=model_name,\n",
    "        prompt=prompt,\n",
    "        #max_tokens=  ,\n",
    "        n=1,\n",
    "        stop=None,\n",
    "        temperature=1\n",
    "    )\n",
    "\n",
    "    generated_output = response.choices[0].text.strip()\n",
    "    print(generated_output)\n",
    "    generated_row = [label, generated_output, expected_output]\n",
    "    writer.writerow(generated_row)\n",
    "outputfile.close()"
   ]
  }
 ],
 "metadata": {
  "kernelspec": {
   "display_name": "Python 3",
   "language": "python",
   "name": "python3"
  },
  "language_info": {
   "codemirror_mode": {
    "name": "ipython",
    "version": 3
   },
   "file_extension": ".py",
   "mimetype": "text/x-python",
   "name": "python",
   "nbconvert_exporter": "python",
   "pygments_lexer": "ipython3",
   "version": "3.9.12"
  },
  "orig_nbformat": 4,
  "vscode": {
   "interpreter": {
    "hash": "604cc6caa16f05d838350030586dbf52e64893542748f9e3771516e0923c2995"
   }
  }
 },
 "nbformat": 4,
 "nbformat_minor": 2
}
